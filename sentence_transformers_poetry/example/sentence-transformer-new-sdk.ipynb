{
 "cells": [
  {
   "cell_type": "code",
   "execution_count": 9,
   "id": "dda9da68-0d5a-48ae-91ac-4690bab39aea",
   "metadata": {},
   "outputs": [
    {
     "name": "stdout",
     "output_type": "stream",
     "text": [
      "Requirement already satisfied: pandas in /opt/conda/lib/python3.9/site-packages (2.1.0)\n",
      "Collecting pyarrow\n",
      "  Downloading pyarrow-13.0.0-cp39-cp39-manylinux_2_28_x86_64.whl (40.1 MB)\n",
      "\u001b[2K     \u001b[90m━━━━━━━━━━━━━━━━━━━━━━━━━━━━━━━━━━━━━━━━\u001b[0m \u001b[32m40.1/40.1 MB\u001b[0m \u001b[31m60.2 MB/s\u001b[0m eta \u001b[36m0:00:00\u001b[0m00:01\u001b[0m00:01\u001b[0m\n",
      "\u001b[?25hRequirement already satisfied: numpy>=1.22.4 in /opt/conda/lib/python3.9/site-packages (from pandas) (1.26.0)\n",
      "Requirement already satisfied: python-dateutil>=2.8.2 in /opt/conda/lib/python3.9/site-packages (from pandas) (2.8.2)\n",
      "Requirement already satisfied: pytz>=2020.1 in /opt/conda/lib/python3.9/site-packages (from pandas) (2023.3)\n",
      "Requirement already satisfied: tzdata>=2022.1 in /opt/conda/lib/python3.9/site-packages (from pandas) (2023.3)\n",
      "Requirement already satisfied: six>=1.5 in /opt/conda/lib/python3.9/site-packages (from python-dateutil>=2.8.2->pandas) (1.16.0)\n",
      "Installing collected packages: pyarrow\n",
      "Successfully installed pyarrow-13.0.0\n"
     ]
    }
   ],
   "source": [
    "!pip install pandas pyarrow"
   ]
  },
  {
   "cell_type": "code",
   "execution_count": 10,
   "id": "83deda8d-5336-424b-92fc-ccfba4f76570",
   "metadata": {},
   "outputs": [],
   "source": [
    "import pandas as pd\n",
    "import numpy as np\n",
    "import os\n",
    "\n",
    "df = pd.read_parquet(\"short_articles.parquet\")\n",
    "df = df[df[\"text\"].str.len() > 0].sample(frac=0.25)\n",
    "df = df.reset_index()"
   ]
  },
  {
   "cell_type": "code",
   "execution_count": 11,
   "id": "13ac8be3-790b-4e49-b353-e57f5490d215",
   "metadata": {},
   "outputs": [],
   "source": [
    "## collect our ids for each article\n",
    "ids = df[\"article_id\"].tolist()\n",
    "## collect the properties that we will attach to each vector\n",
    "properties = df.apply(\n",
    "    lambda r:{ \n",
    "        \"url\": r.url, \n",
    "        \"title\": r.title, \n",
    "        \"title_len\": r.title_len, \n",
    "        \"text\": r.text, \n",
    "        \"text_len\": r.text_len}\n",
    "    , axis=1\n",
    ").tolist()\n"
   ]
  },
  {
   "cell_type": "code",
   "execution_count": 34,
   "id": "8e3350b8-fabf-4e1a-ab82-2fcea9db2d93",
   "metadata": {},
   "outputs": [],
   "source": [
    "from qwak.exceptions import QwakException\n",
    "from qwak.vector_store import VectorStoreClient\n",
    "\n",
    "## Create vector client and fetch collection\n",
    "client = VectorStoreClient()\n",
    "\n",
    "# Retrieve a collection or create a new one\n",
    "collection_name = \"wikipedia-vectorizer-demo\"\n",
    "try:\n",
    "    collection = client.get_collection_by_name(collection_name)\n",
    "except QwakException:\n",
    "    collection = client.create_collection(\n",
    "        name=collection_name,\n",
    "        description=\"Indexing Wikipedia articles \",\n",
    "        dimension=384,\n",
    "        metric=\"cosine\",\n",
    "        vectorizer=\"sentence_transformer\"  # The name of a deployed realtime model on Qwak\n",
    "    )"
   ]
  },
  {
   "cell_type": "code",
   "execution_count": null,
   "id": "1e6f2225-075f-4e84-b36e-8960c35aec60",
   "metadata": {},
   "outputs": [],
   "source": [
    "data_len = -1\n",
    "collection.upsert(\n",
    "    ## List of the article ids\n",
    "    ids=ids[:data_len],\n",
    "    # Natural inputs\n",
    "    natural_inputs=df['text'][:data_len].tolist(),\n",
    "    ## List of dict of the article properties\n",
    "    properties=properties[:data_len]\n",
    ")"
   ]
  },
  {
   "cell_type": "code",
   "execution_count": 39,
   "id": "58fee2e1-be0a-4e8d-bd04-df3323fdef39",
   "metadata": {},
   "outputs": [
    {
     "name": "stdout",
     "output_type": "stream",
     "text": [
      "[SearchResult(properties={'title': 'Bifröst', 'title_len': 7.0, 'url': 'https://simple.wikipedia.org/wiki/Bifr%C3%B6st'}, id='090ac4be-654b-46e1-964e-e4d9e28f3244', vector=None, distance=0.7651671), SearchResult(properties={'title': 'Commonwealth Games', 'title_len': 18.0, 'url': 'https://simple.wikipedia.org/wiki/Commonwealth%20Games'}, id='4d6d2830-98a0-430b-8863-2edbe4738637', vector=None, distance=0.8012285), SearchResult(properties={'title': 'Coelurosauria', 'title_len': 13.0, 'url': 'https://simple.wikipedia.org/wiki/Coelurosauria'}, id='d59e9fc4-48bc-4d55-83c1-3b9d9ffe1b2e', vector=None, distance=0.82558024)]\n"
     ]
    }
   ],
   "source": [
    "from qwak.vector_store import VectorStoreClient\n",
    "\n",
    "## Search vector store using vector provided by model\n",
    "search_results = collection.search(\n",
    "    natural_input=\"Ducks\", \n",
    "    top_results=3, \n",
    "    output_properties=[\"title\", \"title_len\", \"url\"], \n",
    "    include_distance=True, \n",
    "    include_vector=False\n",
    ")"
   ]
  },
  {
   "cell_type": "code",
   "execution_count": 40,
   "id": "c7117b65-afed-449a-8d63-5736986d8648",
   "metadata": {},
   "outputs": [
    {
     "name": "stdout",
     "output_type": "stream",
     "text": [
      "{'title': 'Bifröst', 'title_len': 7.0, 'url': 'https://simple.wikipedia.org/wiki/Bifr%C3%B6st'} 0.7651671\n",
      "{'title': 'Commonwealth Games', 'title_len': 18.0, 'url': 'https://simple.wikipedia.org/wiki/Commonwealth%20Games'} 0.8012285\n",
      "{'title': 'Coelurosauria', 'title_len': 13.0, 'url': 'https://simple.wikipedia.org/wiki/Coelurosauria'} 0.82558024\n"
     ]
    },
    {
     "data": {
      "text/plain": [
       "[None, None, None]"
      ]
     },
     "execution_count": 40,
     "metadata": {},
     "output_type": "execute_result"
    }
   ],
   "source": [
    "[print(x.properties, x.distance) for x in search_results]"
   ]
  }
 ],
 "metadata": {
  "kernelspec": {
   "display_name": "Python 3 (ipykernel)",
   "language": "python",
   "name": "python3"
  },
  "language_info": {
   "codemirror_mode": {
    "name": "ipython",
    "version": 3
   },
   "file_extension": ".py",
   "mimetype": "text/x-python",
   "name": "python",
   "nbconvert_exporter": "python",
   "pygments_lexer": "ipython3",
   "version": "3.9.16"
  }
 },
 "nbformat": 4,
 "nbformat_minor": 5
}
