{
 "cells": [
  {
   "cell_type": "markdown",
   "id": "3d37ec44-3f7d-4632-b71f-02b403d40658",
   "metadata": {},
   "source": [
    "## Installing dependencies"
   ]
  },
  {
   "cell_type": "code",
   "execution_count": 1,
   "id": "dda9da68-0d5a-48ae-91ac-4690bab39aea",
   "metadata": {},
   "outputs": [
    {
     "name": "stdout",
     "output_type": "stream",
     "text": [
      "Collecting pandas\n",
      "  Downloading pandas-2.1.0-cp39-cp39-manylinux_2_17_x86_64.manylinux2014_x86_64.whl (12.7 MB)\n",
      "\u001b[2K     \u001b[90m━━━━━━━━━━━━━━━━━━━━━━━━━━━━━━━━━━━━━━━━\u001b[0m \u001b[32m12.7/12.7 MB\u001b[0m \u001b[31m96.8 MB/s\u001b[0m eta \u001b[36m0:00:00\u001b[0m00:01\u001b[0m00:01\u001b[0m\n",
      "\u001b[?25hCollecting pyarrow\n",
      "  Downloading pyarrow-13.0.0-cp39-cp39-manylinux_2_28_x86_64.whl (40.1 MB)\n",
      "\u001b[2K     \u001b[90m━━━━━━━━━━━━━━━━━━━━━━━━━━━━━━━━━━━━━━━━\u001b[0m \u001b[32m40.1/40.1 MB\u001b[0m \u001b[31m53.8 MB/s\u001b[0m eta \u001b[36m0:00:00\u001b[0m00:01\u001b[0m00:01\u001b[0m\n",
      "\u001b[?25hRequirement already satisfied: numpy>=1.22.4 in /opt/conda/lib/python3.9/site-packages (from pandas) (1.26.0)\n",
      "Requirement already satisfied: python-dateutil>=2.8.2 in /opt/conda/lib/python3.9/site-packages (from pandas) (2.8.2)\n",
      "Requirement already satisfied: pytz>=2020.1 in /opt/conda/lib/python3.9/site-packages (from pandas) (2023.3)\n",
      "Collecting tzdata>=2022.1 (from pandas)\n",
      "  Downloading tzdata-2023.3-py2.py3-none-any.whl (341 kB)\n",
      "\u001b[2K     \u001b[90m━━━━━━━━━━━━━━━━━━━━━━━━━━━━━━━━━━━━━━\u001b[0m \u001b[32m341.8/341.8 kB\u001b[0m \u001b[31m51.8 MB/s\u001b[0m eta \u001b[36m0:00:00\u001b[0m\n",
      "\u001b[?25hRequirement already satisfied: six>=1.5 in /opt/conda/lib/python3.9/site-packages (from python-dateutil>=2.8.2->pandas) (1.16.0)\n",
      "Installing collected packages: tzdata, pyarrow, pandas\n",
      "Successfully installed pandas-2.1.0 pyarrow-13.0.0 tzdata-2023.3\n"
     ]
    }
   ],
   "source": [
    "!pip install pandas pyarrow"
   ]
  },
  {
   "cell_type": "markdown",
   "id": "a450d7be-8faf-440d-8452-5717a005f58a",
   "metadata": {},
   "source": [
    "## Reading data"
   ]
  },
  {
   "cell_type": "code",
   "execution_count": 2,
   "id": "83deda8d-5336-424b-92fc-ccfba4f76570",
   "metadata": {},
   "outputs": [],
   "source": [
    "import pandas as pd\n",
    "import numpy as np\n",
    "import os\n",
    "\n",
    "df = pd.read_parquet(\"short_articles.parquet\")\n",
    "df = df[df[\"text\"].str.len() > 0].sample(frac=0.25)\n",
    "df = df.reset_index()"
   ]
  },
  {
   "cell_type": "markdown",
   "id": "18dec29e-9828-493e-a0c4-d199d7fa3a37",
   "metadata": {},
   "source": [
    "## Formatting data"
   ]
  },
  {
   "cell_type": "code",
   "execution_count": 3,
   "id": "13ac8be3-790b-4e49-b353-e57f5490d215",
   "metadata": {},
   "outputs": [],
   "source": [
    "## collect our ids for each article\n",
    "ids = df[\"article_id\"].tolist()\n",
    "## collect the properties that we will attach to each vector\n",
    "properties = df.apply(\n",
    "    lambda r:{ \n",
    "        \"url\": r.url, \n",
    "        \"title\": r.title, \n",
    "        \"title_len\": r.title_len, \n",
    "        \"text\": r.text, \n",
    "        \"text_len\": r.text_len}\n",
    "    , axis=1\n",
    ").tolist()\n"
   ]
  },
  {
   "cell_type": "markdown",
   "id": "96cdb3c6-936a-448a-bf2f-92791f3789ba",
   "metadata": {},
   "source": [
    "## Fetching or Creating Collection"
   ]
  },
  {
   "cell_type": "code",
   "execution_count": 4,
   "id": "8e3350b8-fabf-4e1a-ab82-2fcea9db2d93",
   "metadata": {},
   "outputs": [],
   "source": [
    "from qwak.exceptions import QwakException\n",
    "from qwak.vector_store import VectorStoreClient\n",
    "\n",
    "## Create vector client and fetch collection\n",
    "client = VectorStoreClient()\n",
    "\n",
    "# Retrieve a collection or create a new one\n",
    "collection_name = \"wikipedia-vectorizer-demo\"\n",
    "try:\n",
    "    collection = client.get_collection_by_name(collection_name)\n",
    "except QwakException:\n",
    "    collection = client.create_collection(\n",
    "        name=collection_name,\n",
    "        description=\"Indexing Wikipedia articles \",\n",
    "        dimension=384,\n",
    "        metric=\"cosine\",\n",
    "        vectorizer=\"sentence_transformer\"  # The name of a deployed realtime model on Qwak\n",
    "    )"
   ]
  },
  {
   "cell_type": "markdown",
   "id": "f84bab81-a96f-40e8-9ff8-325b8daaae6b",
   "metadata": {},
   "source": [
    "## Inserting Data into the Collection"
   ]
  },
  {
   "cell_type": "code",
   "execution_count": 5,
   "id": "1e6f2225-075f-4e84-b36e-8960c35aec60",
   "metadata": {},
   "outputs": [],
   "source": [
    "data_len = -1\n",
    "collection.upsert(\n",
    "    ## List of the article ids\n",
    "    ids=ids[:data_len],\n",
    "    # Natural inputs\n",
    "    natural_inputs=df['text'][:data_len].tolist(),\n",
    "    ## List of dict of the article properties\n",
    "    properties=properties[:data_len]\n",
    ")"
   ]
  },
  {
   "cell_type": "markdown",
   "id": "00558a5e-e6e0-4b32-b48a-3c984bc45920",
   "metadata": {},
   "source": [
    "## Search for Similar Results"
   ]
  },
  {
   "cell_type": "code",
   "execution_count": 6,
   "id": "58fee2e1-be0a-4e8d-bd04-df3323fdef39",
   "metadata": {},
   "outputs": [],
   "source": [
    "from qwak.vector_store import VectorStoreClient\n",
    "\n",
    "## Search vector store using vector provided by model\n",
    "search_results = collection.search(\n",
    "    natural_input=\"Ducks\", \n",
    "    top_results=3, \n",
    "    output_properties=[\"title\", \"title_len\", \"url\"], \n",
    "    include_distance=True, \n",
    "    include_vector=False\n",
    ")"
   ]
  },
  {
   "cell_type": "markdown",
   "id": "3d81383c-6932-4692-aba4-0854a14f530e",
   "metadata": {},
   "source": [
    "## Search for Similar Results"
   ]
  },
  {
   "cell_type": "code",
   "execution_count": 8,
   "id": "c7117b65-afed-449a-8d63-5736986d8648",
   "metadata": {},
   "outputs": [
    {
     "name": "stdout",
     "output_type": "stream",
     "text": [
      "{'title': 'Duck', 'title_len': 4.0, 'url': 'https://simple.wikipedia.org/wiki/Duck'} 0.4547128\n",
      "{'title': 'Mallard', 'title_len': 7.0, 'url': 'https://simple.wikipedia.org/wiki/Mallard'} 0.4711383\n",
      "{'title': 'Donald Duck', 'title_len': 11.0, 'url': 'https://simple.wikipedia.org/wiki/Donald%20Duck'} 0.5375511\n"
     ]
    },
    {
     "data": {
      "text/plain": [
       "[None, None, None]"
      ]
     },
     "execution_count": 8,
     "metadata": {},
     "output_type": "execute_result"
    }
   ],
   "source": [
    "[print(x.properties, x.distance) for x in search_results]"
   ]
  }
 ],
 "metadata": {
  "kernelspec": {
   "display_name": "Python 3 (ipykernel)",
   "language": "python",
   "name": "python3"
  },
  "language_info": {
   "codemirror_mode": {
    "name": "ipython",
    "version": 3
   },
   "file_extension": ".py",
   "mimetype": "text/x-python",
   "name": "python",
   "nbconvert_exporter": "python",
   "pygments_lexer": "ipython3",
   "version": "3.9.16"
  }
 },
 "nbformat": 4,
 "nbformat_minor": 5
}
