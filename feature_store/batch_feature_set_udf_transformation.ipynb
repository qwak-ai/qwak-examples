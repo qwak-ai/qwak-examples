{
 "cells": [
  {
   "cell_type": "markdown",
   "id": "09416862-25e8-470f-bf85-01d287143bfb",
   "metadata": {},
   "source": [
    "# Qwak Feature Store Example - Batch Feature Set with Koalas Transformation\n",
    "\n",
    "Welcome to the Qwak Feature Store example! In this tutorial, we'll guide you through creating a sample Data Source, transforming it into a Feature Set, and leveraging its features for model training and inference using the Qwak Platform. \n",
    "\n",
    "Guides like this one aim to provide you with a starting point by offering a straightforward framework for working with Qwak. However, we encourage you to explore our [comprehensive documentation](https://docs-saas.qwak.com/docs/feature-store-overview) for more detailed and specific information.\n",
    "\n",
    "Before diving in, make sure you have the Qwak SDK installed and authenticated. If you haven't done so already, follow these steps:\n",
    "\n",
    "1. [Install the Qwak SDK](https://docs-saas.qwak.com/docs/installing-the-qwak-sdk) - Ensure you have the SDK installed on your local environment.\n",
    "2. [Authenticate](https://docs-saas.qwak.com/docs/installing-the-qwak-sdk#1-via-qwak-cli) - Authenticate with a new Personal or Service Qwak API Key.\n",
    "\n",
    "To gain a deeper understanding of Feature Stores and their importance in machine learning workflows, we recommend checking out our comprehensive [documentation](https://docs-saas.qwak.com/docs/feature-store-overview) and our blog article on [What is a Feature Store](https://www.qwak.com/post/what-is-a-feature-store-in-ml). Let's get started!\n"
   ]
  },
  {
   "cell_type": "markdown",
   "id": "5fd037e5-c8b4-4c8d-9bdd-ce426dc22b09",
   "metadata": {},
   "source": [
    "## Create the S3-based Data Source\n",
    "\n",
    "In Qwak, a Data Source serves as a configuration object that specifies how to access and fetch your data. It includes metadata such as name and description, connection details to the data store/storage, the query or resource to retrieve, and the relevant time column for indexing time series features.\n",
    "\n",
    "### Components of a Data Source:\n",
    "\n",
    "1. **Metadata**: Includes information like name, description, etc.\n",
    "2. **URL and Connection Details**: Specifies the connection details to the data store/storage.\n",
    "3. **Query or Resource**: Defines the resource (file, table, view) to retrieve data from.\n",
    "4. **Time Column**: Specifies the relevant time column for indexing time series features.\n",
    "\n",
    "In the following example, we'll connect to a publicly accessible S3 bucket and fetch data from a single CSV file, for simplicity.\n"
   ]
  },
  {
   "cell_type": "code",
   "execution_count": 3,
   "id": "ff9c12dd-f46e-49e2-be07-931da11cf465",
   "metadata": {},
   "outputs": [
    {
     "name": "stdout",
     "output_type": "stream",
     "text": [
      "Writing data_source.py\n"
     ]
    }
   ],
   "source": [
    "%%writefile data_source.py\n",
    "\n",
    "from qwak.feature_store.data_sources import CsvSource\n",
    "import pandas as pd\n",
    "\n",
    "# The S3 anonymous config class is required for public S3 buckets\n",
    "from qwak.feature_store.data_sources import AnonymousS3Configuration\n",
    "\n",
    "# Create a CsvSource object to represent a CSV data source \n",
    "# This example uses a CSV file from a public S3 bucket\n",
    "csv_source = CsvSource(\n",
    "    name='credit_risk_data',                                    # Name of the data source\n",
    "    description='A dataset of personal credit details',         # Description of the data source\n",
    "    date_created_column='date_created',                         # Column name that represents the creation date\n",
    "    path='s3://qwak-public/example_data/data_credit_risk.csv',  # S3 path to the CSV file \n",
    "    filesystem_configuration=AnonymousS3Configuration(),        # Configuration for anonymous access to S3\n",
    "    quote_character='\"',                                        # Character used for quoting in the CSV file\n",
    "    escape_character='\"'                                        # Character used for escaping in the CSV file\n",
    ")"
   ]
  },
  {
   "cell_type": "markdown",
   "id": "aa2484ec-e719-46d1-9d20-ef72e6f20747",
   "metadata": {},
   "source": [
    "### Additional Considerations for Registering Data Sources\n",
    "\n",
    "When registering Data Sources in Qwak, it's essential to ensure that the underlying data store is accessible by the platform. Depending on your deployment model (Hybrid or SaaS), there are different ways to grant Qwak access to your data.\n",
    "\n",
    "#### Accessing AWS Resources:\n",
    "\n",
    "If your data is stored in AWS services, you can grant access to Qwak using an IAM role ARN. For detailed instructions, refer to our documentation on [Accessing AWS Resources with IAM Role](https://docs-saas.qwak.com/docs/accessing-aws-resources-with-iam-role).\n",
    "\n",
    "#### Using Qwak Secrets:\n",
    "\n",
    "Alternatively, you can pass the credentials as Qwak Secrets. This approach provides a secure way to manage and authenticate access to your data. For more information, see [Qwak Secret Management](https://docs-saas.qwak.com/docs/secret-management).\n",
    "\n",
    "For more information about the types of Data Sources supported by Qwak, refer to our documentation:\n",
    "- [Batch Data Sources](https://docs-saas.qwak.com/docs/batch-data-sources)\n",
    "- [Streaming Data Sources](https://docs-saas.qwak.com/docs/streaming-data-sources)\n",
    "\n",
    "<br>\n",
    "\n",
    "### Sampling Data from the Data Source\n",
    "\n",
    "It's important to note that the data source cannot be used as a query engine independently (for now). Instead, it serves as a sampling mechanism to verify that the data is being queried properly.\n"
   ]
  },
  {
   "cell_type": "code",
   "execution_count": 7,
   "id": "f4fcc6d5-50db-401f-a41e-4c1c8c8938ad",
   "metadata": {},
   "outputs": [
    {
     "name": "stdout",
     "output_type": "stream",
     "text": [
      "Data Source Data Types:\n",
      "\n",
      "age                  int64\n",
      "sex                 object\n",
      "job                  int64\n",
      "housing             object\n",
      "saving_account      object\n",
      "checking_account    object\n",
      "credit_amount        int64\n",
      "duration             int64\n",
      "purpose             object\n",
      "risk                object\n",
      "user_id             object\n",
      "date_created         int64\n",
      "dtype: object\n",
      "\n",
      "Data Source Sample :\n",
      "\n",
      "   age     sex  job housing saving_account checking_account  credit_amount  \\\n",
      "0   67    male    2     own           None           little           1169   \n",
      "1   22  female    2     own         little         moderate           5951   \n",
      "2   49    male    1     own         little             None           2096   \n",
      "3   45    male    2    free         little           little           7882   \n",
      "4   53    male    2    free         little           little           4870   \n",
      "5   35    male    1    free           None             None           9055   \n",
      "6   53    male    2     own     quite rich             None           2835   \n",
      "7   35    male    3    rent         little         moderate           6948   \n",
      "8   61    male    1     own           rich             None           3059   \n",
      "9   28    male    3     own         little         moderate           5234   \n",
      "\n",
      "   duration              purpose  risk                               user_id  \\\n",
      "0         6             radio/TV  good  baf1aed9-b16a-46f1-803b-e2b08c8b47de   \n",
      "1        48             radio/TV   bad  574a2cb7-f3ae-48e7-bd32-b44015bf9dd4   \n",
      "2        12            education  good  1b044db3-3bd1-4b71-a4e9-336210d6503f   \n",
      "3        42  furniture/equipment  good  ac8ec869-1a05-4df9-9805-7866ca42b31c   \n",
      "4        24                  car   bad  aa974eeb-ed0e-450b-90d0-4fe4592081c1   \n",
      "5        36            education  good  7b3d019c-82a7-42d9-beb8-2c57a246ff16   \n",
      "6        24  furniture/equipment  good  6bc1fd70-897e-49f4-ae25-960d490cb74e   \n",
      "7        36                  car  good  193158eb-5552-4ce5-92a4-2a966895bec5   \n",
      "8        12             radio/TV  good  759b5b46-dbe9-40ef-a315-107ddddc64b5   \n",
      "9        30                  car   bad  e703c351-41a8-43ea-9615-8605da7ee718   \n",
      "\n",
      "    date_created  \n",
      "0  1609459200000  \n",
      "1  1609459200000  \n",
      "2  1609459200000  \n",
      "3  1609459200000  \n",
      "4  1609459200000  \n",
      "5  1609459200000  \n",
      "6  1609459200000  \n",
      "7  1609459200000  \n",
      "8  1609459200000  \n",
      "9  1609459200000  \n",
      "\n"
     ]
    }
   ],
   "source": [
    "%run data_source.py\n",
    "\n",
    "df_sample = csv_source.get_sample()\n",
    "print (f\"Data Source Data Types:\\n\\n{df_sample.dtypes}\\n\")\n",
    "print (f\"Data Source Sample :\\n\\n{df_sample.head(7).to_string()}\\n\")"
   ]
  },
  {
   "cell_type": "markdown",
   "id": "639d27c1-25fa-45d5-836c-d22aa3e35fab",
   "metadata": {},
   "source": [
    "## Registering the Data Source with the Qwak Platform\n",
    "\n",
    "After verifying that the Data Source returns the desired results, the next step is to register it with the Qwak Platform."
   ]
  },
  {
   "cell_type": "code",
   "execution_count": 2,
   "id": "4027c415-473c-4d62-a384-957d1f6dd7c5",
   "metadata": {},
   "outputs": [
    {
     "name": "stdout",
     "output_type": "stream",
     "text": [
      "Notice that BatchInferenceClient and FeedbackClient are not available in the skinny package. In order to use them, please install them as extras: pip install \"qwak-inference[batch,feedback]\".\n",
      "\u001b[K\u001b[?25h\u001b[34m✅\u001b[0m Finding Entities to register (0:00:00.00)\n",
      "👀 Found 0 Entities\n",
      "----------------------------------------\n",
      "\u001b[K\u001b[?25h\u001b[34m✅\u001b[0m Finding Data Sources to register (0:00:00.00)\n",
      "👀 Found 1 Data Sources\n",
      "Validating 'credit_risk_data' data source\n",
      "\u001b[K\u001b[?25h\u001b[34m✅\u001b[0m  (0:00:06.22)\n",
      "✅ Validation completed successfully, got data source columns:\n",
      "column name       type\n",
      "----------------  ---------\n",
      "age               int\n",
      "sex               string\n",
      "job               int\n",
      "housing           string\n",
      "saving_account    string\n",
      "checking_account  string\n",
      "credit_amount     int\n",
      "duration          int\n",
      "purpose           string\n",
      "risk              string\n",
      "user_id           string\n",
      "date_created      timestamp\n",
      "Update existing Data Source 'credit_risk_data' from source file '/home/qwak/workspace/data_source.py'?\n",
      "continue? [y/N]: ----------------------------------------\n",
      "\u001b[K\u001b[?25h\u001b[34m✅\u001b[0m Finding Feature Sets to register (0:00:00.00)\n",
      "👀 Found 0 Feature Set(s)\n"
     ]
    }
   ],
   "source": [
    "!echo \"Y\" | qwak features register -p data_source.py"
   ]
  },
  {
   "cell_type": "markdown",
   "id": "fa5fabf0-06a1-4429-9129-1a14d83c9fc8",
   "metadata": {},
   "source": [
    "<hr><br>\n",
    "\n",
    "## Creating the Batch Feature Set from the Data Source\n",
    "\n",
    "When creating a Feature Set, it typically consists of the following components:\n",
    "\n",
    "- **Metadata:** Includes name, key, data sources, and the timestamp column used for indexing.\n",
    "- **Scheduling Expression:** For Batch Feature Sets, this defines when ingestion jobs should run.\n",
    "- **Cluster Type:** Specifies the resources to use for running the ingestion job.\n",
    "- **Backfill:** Determines how far back in time the Feature Set should ingest data.\n",
    "- **Transformation:** Can be SQL-based or UDF-based (currently Koalas) for data transformation.\n",
    "\n",
    "[Read Policies](https://docs-saas.qwak.com/docs/read-policies) instruct Qwak on which data to fetch from the Data Source. \n",
    "- **NewOnly:** Fetches records created after the last ingestion.\n",
    "- **TimeFrame:** Fetches records within a specified timeframe.\n",
    "- **FullRead:** Fetches all data from the Data Source in every ingestion job, which can be heavy for main tables but useful for foreign key-based tables.\n",
    "\n",
    "For this example, we'll use FullRead since our sample Data Source is static, consisting of a single CSV file.\n",
    "\n",
    "The execution specification refers to the size of the cluster used for data ingestion. More information can be found in the [Qwak docs](https://docs-saas.qwak.com/docs/instance-sizes#feature-store).\n",
    "\n",
    "### The Koalas transformation process\n",
    "\n",
    "As you're aware, a Koalas DataFrame is akin to a pandas DataFrame but operates across a Spark cluster. Once your data resides in a Koalas dataframe, it's advisable to carry out transformations directly within Koalas rather than switching to other data types like pandas. This is because switching to other dataframes, such as pandas, consolidates the distributed data into a single node, leading to sequential computation rather than parallel.\n",
    "\n",
    "The qwak `transform` method should return a KoalasTransformation object, indicating your end-to-end transformation function, in this case, `extract_features`. You're not restricted to a single function; you can divide the logic into as many as necessary and call them within a main function passed to the transformation.\n",
    "\n",
    "The function's input will be a Python dictionary with data source names as keys and their associated values as Koalas DataFrames containing the ingested data from the DataSource.\n",
    "\n",
    "It's important to note that while this code is callable locally, via `get_sample()`` as demonstrated in the next cell, it's not available for debugging, as the actual transformations will be executed remotely.\n",
    "\n",
    "To utilize Koalas Transformation effectively, **ensure you have Python 3.8 installed** and `cloudpickle` locked to version `2.2.1`, as your code will be pickled and provided to Qwak for registration and testing."
   ]
  },
  {
   "cell_type": "code",
   "execution_count": 26,
   "id": "4c201c7e-3b50-4c14-80d2-75d46734169a",
   "metadata": {},
   "outputs": [
    {
     "name": "stdout",
     "output_type": "stream",
     "text": [
      "Overwriting batch_feature_set_udf.py\n"
     ]
    }
   ],
   "source": [
    "%%writefile batch_feature_set_udf.py\n",
    "\n",
    "import qwak.feature_store.feature_sets.batch as batch\n",
    "from qwak.feature_store.feature_sets.execution_spec import ClusterTemplate\n",
    "from qwak.feature_store.feature_sets.read_policies import ReadPolicy\n",
    "from qwak.feature_store.feature_sets.transformations import KoalasTransformation\n",
    "\n",
    "@batch.feature_set(  \n",
    "    name=\"credit-risk-fs-udf\", # must contain dashes -, NOT underscores _\n",
    "    key=\"user\",  \n",
    "    data_sources={\"credit_risk_data\": ReadPolicy.FullRead},  \n",
    "    timestamp_column_name=\"date_created\"  \n",
    ")  \n",
    "@batch.scheduling(cron_expression=\"0 0 * * *\")  \n",
    "@batch.execution_specification(cluster_template=ClusterTemplate.MEDIUM)\n",
    "def transform():\n",
    "\n",
    "  def extract_features(kdf_dict):  \n",
    "    # Extract the Koalas DataFrame containing credit risk data\n",
    "    risk_data_koalas = kdf_dict['credit_risk_data'] \n",
    "\n",
    "    # Calculate the average credit amount and duration for each user\n",
    "    risk_data_koalas['credit_amount_avg'] = risk_data_koalas['credit_amount'].mean()\n",
    "    risk_data_koalas['duration_avg'] = risk_data_koalas['duration'].mean()\n",
    "\n",
    "    # Group the risk data by 'user_id' and aggregate the credit amount column by mean and sum\n",
    "    agg_kdf = risk_data_koalas.groupby('user_id').agg({'credit_amount': ['mean', 'sum']})  \n",
    "\n",
    "    # Rename the columns to indicate the aggregation functions\n",
    "    agg_kdf.columns = ['_'.join(column) for column in agg_kdf.columns.values]  \n",
    "\n",
    "    return agg_kdf\n",
    "\n",
    "  return KoalasTransformation(function=extract_features)"
   ]
  },
  {
   "cell_type": "markdown",
   "id": "8ea960ab-ffb2-4dd9-997d-494829ff625f",
   "metadata": {},
   "source": [
    "## Sampling the Data Source and Printing Data and Data Types\n",
    "\n",
    "If your data source takes more than 5 minutes to query or fetch a sample of the data (for example, due to long-running queries), your sampling process may fail with a timeout error. In such cases, you can skip validation during registration with Qwak and proceed to register your feature set, allowing it to run an ingestion job.\n",
    "\n",
    "### Note:\n",
    "The sampling process is essential for verifying that the data is queried properly. However, if it takes too long, you can proceed with the registration without validation and rely on the ingestion job to ensure data correctness.\n"
   ]
  },
  {
   "cell_type": "code",
   "execution_count": 27,
   "id": "c75631eb-b157-47e3-9a5e-c65960acfd24",
   "metadata": {},
   "outputs": [
    {
     "name": "stdout",
     "output_type": "stream",
     "text": [
      "Koalas transformation is about to be deprecated. Please use SQL transformation or Pandas based UDFs instead\n"
     ]
    },
    {
     "ename": "QwakException",
     "evalue": "\u001b[91mFailed to get presigned url for featureset name credit-risk-fs-udf and transformation type <class 'qwak.feature_store.features.feature_set_types_pb2.Transformation'>, error code: [[User code execution (Koalas, UDFs, Custom code) is not enabled for the current feature store environment]]\u001b[0m",
     "output_type": "error",
     "traceback": [
      "\u001b[0;31m---------------------------------------------------------------------------\u001b[0m",
      "\u001b[0;31m_InactiveRpcError\u001b[0m                         Traceback (most recent call last)",
      "File \u001b[0;32m~/anaconda3/envs/qwak-new-3.8/lib/python3.8/site-packages/qwak/clients/feature_store/management_client.py:391\u001b[0m, in \u001b[0;36mFeatureRegistryClient.get_presigned_url_v1\u001b[0;34m(self, feature_set_name, transformation)\u001b[0m\n\u001b[1;32m    390\u001b[0m \u001b[38;5;28;01mtry\u001b[39;00m:\n\u001b[0;32m--> 391\u001b[0m     \u001b[38;5;28;01mreturn\u001b[39;00m \u001b[38;5;28;43mself\u001b[39;49m\u001b[38;5;241;43m.\u001b[39;49m\u001b[43m_features_service\u001b[49m\u001b[38;5;241;43m.\u001b[39;49m\u001b[43mCreateUploadURLV1\u001b[49m\u001b[43m(\u001b[49m\n\u001b[1;32m    392\u001b[0m \u001b[43m        \u001b[49m\u001b[43mCreateUploadURLRequestV1\u001b[49m\u001b[43m(\u001b[49m\n\u001b[1;32m    393\u001b[0m \u001b[43m            \u001b[49m\u001b[43mfeatureset_name\u001b[49m\u001b[38;5;241;43m=\u001b[39;49m\u001b[43mfeature_set_name\u001b[49m\u001b[43m,\u001b[49m\n\u001b[1;32m    394\u001b[0m \u001b[43m            \u001b[49m\u001b[43mtransformation\u001b[49m\u001b[38;5;241;43m=\u001b[39;49m\u001b[43mtransformation\u001b[49m\u001b[43m,\u001b[49m\n\u001b[1;32m    395\u001b[0m \u001b[43m        \u001b[49m\u001b[43m)\u001b[49m\n\u001b[1;32m    396\u001b[0m \u001b[43m    \u001b[49m\u001b[43m)\u001b[49m\u001b[38;5;241m.\u001b[39mupload_url\n\u001b[1;32m    397\u001b[0m \u001b[38;5;28;01mexcept\u001b[39;00m RpcError \u001b[38;5;28;01mas\u001b[39;00m e:\n",
      "File \u001b[0;32m~/anaconda3/envs/qwak-new-3.8/lib/python3.8/site-packages/grpc/_interceptor.py:277\u001b[0m, in \u001b[0;36m_UnaryUnaryMultiCallable.__call__\u001b[0;34m(self, request, timeout, metadata, credentials, wait_for_ready, compression)\u001b[0m\n\u001b[1;32m    268\u001b[0m \u001b[38;5;28;01mdef\u001b[39;00m \u001b[38;5;21m__call__\u001b[39m(\n\u001b[1;32m    269\u001b[0m     \u001b[38;5;28mself\u001b[39m,\n\u001b[1;32m    270\u001b[0m     request: Any,\n\u001b[0;32m   (...)\u001b[0m\n\u001b[1;32m    275\u001b[0m     compression: Optional[grpc\u001b[38;5;241m.\u001b[39mCompression] \u001b[38;5;241m=\u001b[39m \u001b[38;5;28;01mNone\u001b[39;00m,\n\u001b[1;32m    276\u001b[0m ) \u001b[38;5;241m-\u001b[39m\u001b[38;5;241m>\u001b[39m Any:\n\u001b[0;32m--> 277\u001b[0m     response, ignored_call \u001b[38;5;241m=\u001b[39m \u001b[38;5;28;43mself\u001b[39;49m\u001b[38;5;241;43m.\u001b[39;49m\u001b[43m_with_call\u001b[49m\u001b[43m(\u001b[49m\n\u001b[1;32m    278\u001b[0m \u001b[43m        \u001b[49m\u001b[43mrequest\u001b[49m\u001b[43m,\u001b[49m\n\u001b[1;32m    279\u001b[0m \u001b[43m        \u001b[49m\u001b[43mtimeout\u001b[49m\u001b[38;5;241;43m=\u001b[39;49m\u001b[43mtimeout\u001b[49m\u001b[43m,\u001b[49m\n\u001b[1;32m    280\u001b[0m \u001b[43m        \u001b[49m\u001b[43mmetadata\u001b[49m\u001b[38;5;241;43m=\u001b[39;49m\u001b[43mmetadata\u001b[49m\u001b[43m,\u001b[49m\n\u001b[1;32m    281\u001b[0m \u001b[43m        \u001b[49m\u001b[43mcredentials\u001b[49m\u001b[38;5;241;43m=\u001b[39;49m\u001b[43mcredentials\u001b[49m\u001b[43m,\u001b[49m\n\u001b[1;32m    282\u001b[0m \u001b[43m        \u001b[49m\u001b[43mwait_for_ready\u001b[49m\u001b[38;5;241;43m=\u001b[39;49m\u001b[43mwait_for_ready\u001b[49m\u001b[43m,\u001b[49m\n\u001b[1;32m    283\u001b[0m \u001b[43m        \u001b[49m\u001b[43mcompression\u001b[49m\u001b[38;5;241;43m=\u001b[39;49m\u001b[43mcompression\u001b[49m\u001b[43m,\u001b[49m\n\u001b[1;32m    284\u001b[0m \u001b[43m    \u001b[49m\u001b[43m)\u001b[49m\n\u001b[1;32m    285\u001b[0m     \u001b[38;5;28;01mreturn\u001b[39;00m response\n",
      "File \u001b[0;32m~/anaconda3/envs/qwak-new-3.8/lib/python3.8/site-packages/grpc/_interceptor.py:332\u001b[0m, in \u001b[0;36m_UnaryUnaryMultiCallable._with_call\u001b[0;34m(self, request, timeout, metadata, credentials, wait_for_ready, compression)\u001b[0m\n\u001b[1;32m    329\u001b[0m call \u001b[38;5;241m=\u001b[39m \u001b[38;5;28mself\u001b[39m\u001b[38;5;241m.\u001b[39m_interceptor\u001b[38;5;241m.\u001b[39mintercept_unary_unary(\n\u001b[1;32m    330\u001b[0m     continuation, client_call_details, request\n\u001b[1;32m    331\u001b[0m )\n\u001b[0;32m--> 332\u001b[0m \u001b[38;5;28;01mreturn\u001b[39;00m \u001b[43mcall\u001b[49m\u001b[38;5;241;43m.\u001b[39;49m\u001b[43mresult\u001b[49m\u001b[43m(\u001b[49m\u001b[43m)\u001b[49m, call\n",
      "File \u001b[0;32m~/anaconda3/envs/qwak-new-3.8/lib/python3.8/site-packages/grpc/_channel.py:439\u001b[0m, in \u001b[0;36m_InactiveRpcError.result\u001b[0;34m(self, timeout)\u001b[0m\n\u001b[1;32m    438\u001b[0m \u001b[38;5;250m\u001b[39m\u001b[38;5;124;03m\"\"\"See grpc.Future.result.\"\"\"\u001b[39;00m\n\u001b[0;32m--> 439\u001b[0m \u001b[38;5;28;01mraise\u001b[39;00m \u001b[38;5;28mself\u001b[39m\n",
      "File \u001b[0;32m~/anaconda3/envs/qwak-new-3.8/lib/python3.8/site-packages/grpc/_interceptor.py:315\u001b[0m, in \u001b[0;36m_UnaryUnaryMultiCallable._with_call.<locals>.continuation\u001b[0;34m(new_details, request)\u001b[0m\n\u001b[1;32m    314\u001b[0m \u001b[38;5;28;01mtry\u001b[39;00m:\n\u001b[0;32m--> 315\u001b[0m     response, call \u001b[38;5;241m=\u001b[39m \u001b[38;5;28;43mself\u001b[39;49m\u001b[38;5;241;43m.\u001b[39;49m\u001b[43m_thunk\u001b[49m\u001b[43m(\u001b[49m\u001b[43mnew_method\u001b[49m\u001b[43m)\u001b[49m\u001b[38;5;241;43m.\u001b[39;49m\u001b[43mwith_call\u001b[49m\u001b[43m(\u001b[49m\n\u001b[1;32m    316\u001b[0m \u001b[43m        \u001b[49m\u001b[43mrequest\u001b[49m\u001b[43m,\u001b[49m\n\u001b[1;32m    317\u001b[0m \u001b[43m        \u001b[49m\u001b[43mtimeout\u001b[49m\u001b[38;5;241;43m=\u001b[39;49m\u001b[43mnew_timeout\u001b[49m\u001b[43m,\u001b[49m\n\u001b[1;32m    318\u001b[0m \u001b[43m        \u001b[49m\u001b[43mmetadata\u001b[49m\u001b[38;5;241;43m=\u001b[39;49m\u001b[43mnew_metadata\u001b[49m\u001b[43m,\u001b[49m\n\u001b[1;32m    319\u001b[0m \u001b[43m        \u001b[49m\u001b[43mcredentials\u001b[49m\u001b[38;5;241;43m=\u001b[39;49m\u001b[43mnew_credentials\u001b[49m\u001b[43m,\u001b[49m\n\u001b[1;32m    320\u001b[0m \u001b[43m        \u001b[49m\u001b[43mwait_for_ready\u001b[49m\u001b[38;5;241;43m=\u001b[39;49m\u001b[43mnew_wait_for_ready\u001b[49m\u001b[43m,\u001b[49m\n\u001b[1;32m    321\u001b[0m \u001b[43m        \u001b[49m\u001b[43mcompression\u001b[49m\u001b[38;5;241;43m=\u001b[39;49m\u001b[43mnew_compression\u001b[49m\u001b[43m,\u001b[49m\n\u001b[1;32m    322\u001b[0m \u001b[43m    \u001b[49m\u001b[43m)\u001b[49m\n\u001b[1;32m    323\u001b[0m     \u001b[38;5;28;01mreturn\u001b[39;00m _UnaryOutcome(response, call)\n",
      "File \u001b[0;32m~/anaconda3/envs/qwak-new-3.8/lib/python3.8/site-packages/grpc/_channel.py:1193\u001b[0m, in \u001b[0;36m_UnaryUnaryMultiCallable.with_call\u001b[0;34m(self, request, timeout, metadata, credentials, wait_for_ready, compression)\u001b[0m\n\u001b[1;32m   1187\u001b[0m (\n\u001b[1;32m   1188\u001b[0m     state,\n\u001b[1;32m   1189\u001b[0m     call,\n\u001b[1;32m   1190\u001b[0m ) \u001b[38;5;241m=\u001b[39m \u001b[38;5;28mself\u001b[39m\u001b[38;5;241m.\u001b[39m_blocking(\n\u001b[1;32m   1191\u001b[0m     request, timeout, metadata, credentials, wait_for_ready, compression\n\u001b[1;32m   1192\u001b[0m )\n\u001b[0;32m-> 1193\u001b[0m \u001b[38;5;28;01mreturn\u001b[39;00m \u001b[43m_end_unary_response_blocking\u001b[49m\u001b[43m(\u001b[49m\u001b[43mstate\u001b[49m\u001b[43m,\u001b[49m\u001b[43m \u001b[49m\u001b[43mcall\u001b[49m\u001b[43m,\u001b[49m\u001b[43m \u001b[49m\u001b[38;5;28;43;01mTrue\u001b[39;49;00m\u001b[43m,\u001b[49m\u001b[43m \u001b[49m\u001b[38;5;28;43;01mNone\u001b[39;49;00m\u001b[43m)\u001b[49m\n",
      "File \u001b[0;32m~/anaconda3/envs/qwak-new-3.8/lib/python3.8/site-packages/grpc/_channel.py:1005\u001b[0m, in \u001b[0;36m_end_unary_response_blocking\u001b[0;34m(state, call, with_call, deadline)\u001b[0m\n\u001b[1;32m   1004\u001b[0m \u001b[38;5;28;01melse\u001b[39;00m:\n\u001b[0;32m-> 1005\u001b[0m     \u001b[38;5;28;01mraise\u001b[39;00m _InactiveRpcError(state)\n",
      "\u001b[0;31m_InactiveRpcError\u001b[0m: <_InactiveRpcError of RPC that terminated with:\n\tstatus = StatusCode.INVALID_ARGUMENT\n\tdetails = \"[User code execution (Koalas, UDFs, Custom code) is not enabled for the current feature store environment]\"\n\tdebug_error_string = \"UNKNOWN:Error received from peer  {grpc_message:\"[User code execution (Koalas, UDFs, Custom code) is not enabled for the current feature store environment]\", grpc_status:3, created_time:\"2024-04-05T15:10:55.111574+03:00\"}\"\n>",
      "\nDuring handling of the above exception, another exception occurred:\n",
      "\u001b[0;31mQwakException\u001b[0m                             Traceback (most recent call last)",
      "Cell \u001b[0;32mIn[27], line 6\u001b[0m\n\u001b[1;32m      3\u001b[0m \u001b[38;5;28;01mimport\u001b[39;00m \u001b[38;5;21;01mos\u001b[39;00m\n\u001b[1;32m      4\u001b[0m os\u001b[38;5;241m.\u001b[39menviron[\u001b[38;5;124m\"\u001b[39m\u001b[38;5;124mQWAK_API_KEY\u001b[39m\u001b[38;5;124m\"\u001b[39m] \u001b[38;5;241m=\u001b[39m \u001b[38;5;124m'\u001b[39m\u001b[38;5;124m1d4c031d0b2633bc7e67e7cb777e7478@nUCB8k3<c8Mp94JS#TWBK02<Zrs)@ELD\u001b[39m\u001b[38;5;124m'\u001b[39m\n\u001b[0;32m----> 6\u001b[0m df_sample \u001b[38;5;241m=\u001b[39m \u001b[43mtransform\u001b[49m\u001b[38;5;241;43m.\u001b[39;49m\u001b[43mget_sample\u001b[49m\u001b[43m(\u001b[49m\u001b[43m)\u001b[49m\n\u001b[1;32m      7\u001b[0m \u001b[38;5;28mprint\u001b[39m (\u001b[38;5;124mf\u001b[39m\u001b[38;5;124m\"\u001b[39m\u001b[38;5;124mData Source Data Types:\u001b[39m\u001b[38;5;130;01m\\n\u001b[39;00m\u001b[38;5;130;01m\\n\u001b[39;00m\u001b[38;5;132;01m{\u001b[39;00mdf_sample\u001b[38;5;241m.\u001b[39mdtypes\u001b[38;5;132;01m}\u001b[39;00m\u001b[38;5;130;01m\\n\u001b[39;00m\u001b[38;5;124m\"\u001b[39m)\n\u001b[1;32m      8\u001b[0m \u001b[38;5;28mprint\u001b[39m (\u001b[38;5;124mf\u001b[39m\u001b[38;5;124m\"\u001b[39m\u001b[38;5;124mData Source Sample :\u001b[39m\u001b[38;5;130;01m\\n\u001b[39;00m\u001b[38;5;130;01m\\n\u001b[39;00m\u001b[38;5;132;01m{\u001b[39;00mdf_sample\u001b[38;5;132;01m}\u001b[39;00m\u001b[38;5;130;01m\\n\u001b[39;00m\u001b[38;5;124m\"\u001b[39m)\n",
      "File \u001b[0;32m~/anaconda3/envs/qwak-new-3.8/lib/python3.8/site-packages/qwak/feature_store/feature_sets/batch.py:459\u001b[0m, in \u001b[0;36mBatchFeatureSet.get_sample\u001b[0;34m(self, number_of_rows, validation_options)\u001b[0m\n\u001b[1;32m    414\u001b[0m \u001b[38;5;28;01mdef\u001b[39;00m \u001b[38;5;21mget_sample\u001b[39m(\n\u001b[1;32m    415\u001b[0m     \u001b[38;5;28mself\u001b[39m,\n\u001b[1;32m    416\u001b[0m     number_of_rows: \u001b[38;5;28mint\u001b[39m \u001b[38;5;241m=\u001b[39m \u001b[38;5;241m10\u001b[39m,\n\u001b[1;32m    417\u001b[0m     validation_options: Optional[FeatureSetValidationOptions] \u001b[38;5;241m=\u001b[39m \u001b[38;5;28;01mNone\u001b[39;00m,\n\u001b[1;32m    418\u001b[0m ) \u001b[38;5;241m-\u001b[39m\u001b[38;5;241m>\u001b[39m \u001b[38;5;124m\"\u001b[39m\u001b[38;5;124mpd.DataFrame\u001b[39m\u001b[38;5;124m\"\u001b[39m:\n\u001b[1;32m    419\u001b[0m \u001b[38;5;250m    \u001b[39m\u001b[38;5;124;03m\"\"\"\u001b[39;00m\n\u001b[1;32m    420\u001b[0m \u001b[38;5;124;03m    Fetches a sample of the Feature set transformation by loading requested sample of data from the data source\u001b[39;00m\n\u001b[1;32m    421\u001b[0m \u001b[38;5;124;03m    and executing the transformation on that data.\u001b[39;00m\n\u001b[0;32m   (...)\u001b[0m\n\u001b[1;32m    457\u001b[0m \u001b[38;5;124;03m        # 3\t      2\t        2021-01-01 18:00:00\t              34\u001b[39;00m\n\u001b[1;32m    458\u001b[0m \u001b[38;5;124;03m    \"\"\"\u001b[39;00m\n\u001b[0;32m--> 459\u001b[0m     \u001b[38;5;28;01mreturn\u001b[39;00m \u001b[38;5;28;43msuper\u001b[39;49m\u001b[43m(\u001b[49m\u001b[43m)\u001b[49m\u001b[38;5;241;43m.\u001b[39;49m\u001b[43mget_sample\u001b[49m\u001b[43m(\u001b[49m\n\u001b[1;32m    460\u001b[0m \u001b[43m        \u001b[49m\u001b[43mnumber_of_rows\u001b[49m\u001b[38;5;241;43m=\u001b[39;49m\u001b[43mnumber_of_rows\u001b[49m\u001b[43m,\u001b[49m\u001b[43m \u001b[49m\u001b[43mvalidation_options\u001b[49m\u001b[38;5;241;43m=\u001b[39;49m\u001b[43mvalidation_options\u001b[49m\n\u001b[1;32m    461\u001b[0m \u001b[43m    \u001b[49m\u001b[43m)\u001b[49m\n",
      "File \u001b[0;32m~/anaconda3/envs/qwak-new-3.8/lib/python3.8/site-packages/qwak/feature_store/feature_sets/base_feature_set.py:137\u001b[0m, in \u001b[0;36mBaseFeatureSet.get_sample\u001b[0;34m(self, number_of_rows, validation_options)\u001b[0m\n\u001b[1;32m    133\u001b[0m \u001b[38;5;28;01mfrom\u001b[39;00m \u001b[38;5;21;01mqwak\u001b[39;00m\u001b[38;5;21;01m.\u001b[39;00m\u001b[38;5;21;01mfeature_store\u001b[39;00m\u001b[38;5;21;01m.\u001b[39;00m\u001b[38;5;21;01mvalidations\u001b[39;00m\u001b[38;5;21;01m.\u001b[39;00m\u001b[38;5;21;01mvalidator\u001b[39;00m \u001b[38;5;28;01mimport\u001b[39;00m FeaturesOperatorValidator\n\u001b[1;32m    135\u001b[0m v \u001b[38;5;241m=\u001b[39m FeaturesOperatorValidator()\n\u001b[0;32m--> 137\u001b[0m response, _ \u001b[38;5;241m=\u001b[39m \u001b[43mv\u001b[49m\u001b[38;5;241;43m.\u001b[39;49m\u001b[43mvalidate_featureset\u001b[49m\u001b[43m(\u001b[49m\n\u001b[1;32m    138\u001b[0m \u001b[43m    \u001b[49m\u001b[43mfeatureset\u001b[49m\u001b[38;5;241;43m=\u001b[39;49m\u001b[38;5;28;43mself\u001b[39;49m\u001b[43m,\u001b[49m\n\u001b[1;32m    139\u001b[0m \u001b[43m    \u001b[49m\u001b[43msample_size\u001b[49m\u001b[38;5;241;43m=\u001b[39;49m\u001b[43mnumber_of_rows\u001b[49m\u001b[43m,\u001b[49m\n\u001b[1;32m    140\u001b[0m \u001b[43m    \u001b[49m\u001b[43mvalidation_options\u001b[49m\u001b[38;5;241;43m=\u001b[39;49m\u001b[43mvalidation_options\u001b[49m\u001b[43m,\u001b[49m\n\u001b[1;32m    141\u001b[0m \u001b[43m\u001b[49m\u001b[43m)\u001b[49m\n\u001b[1;32m    143\u001b[0m \u001b[38;5;28;01mif\u001b[39;00m \u001b[38;5;28misinstance\u001b[39m(response, SuccessValidationResponse):\n\u001b[1;32m    144\u001b[0m     \u001b[38;5;28;01mreturn\u001b[39;00m response\u001b[38;5;241m.\u001b[39msample\n",
      "File \u001b[0;32m~/anaconda3/envs/qwak-new-3.8/lib/python3.8/site-packages/qwak/feature_store/validations/validator.py:91\u001b[0m, in \u001b[0;36mFeaturesOperatorValidator.validate_featureset\u001b[0;34m(self, featureset, sample_size, validation_options)\u001b[0m\n\u001b[1;32m     86\u001b[0m     \u001b[38;5;28;01mraise\u001b[39;00m \u001b[38;5;167;01mValueError\u001b[39;00m(\n\u001b[1;32m     87\u001b[0m         \u001b[38;5;124mf\u001b[39m\u001b[38;5;124m\"\u001b[39m\u001b[38;5;124msample_size must be under 1000 and positive, got: \u001b[39m\u001b[38;5;132;01m{\u001b[39;00msample_size\u001b[38;5;132;01m}\u001b[39;00m\u001b[38;5;124m\"\u001b[39m\n\u001b[1;32m     88\u001b[0m     )\n\u001b[1;32m     89\u001b[0m artifact_url: Optional[\u001b[38;5;28mstr\u001b[39m] \u001b[38;5;241m=\u001b[39m \u001b[38;5;28;01mNone\u001b[39;00m\n\u001b[0;32m---> 91\u001b[0m featureset_spec, artifact_url \u001b[38;5;241m=\u001b[39m \u001b[43mfeatureset\u001b[49m\u001b[38;5;241;43m.\u001b[39;49m\u001b[43m_to_proto\u001b[49m\u001b[43m(\u001b[49m\n\u001b[1;32m     92\u001b[0m \u001b[43m    \u001b[49m\u001b[43mfeature_registry\u001b[49m\u001b[38;5;241;43m=\u001b[39;49m\u001b[38;5;28;43mself\u001b[39;49m\u001b[38;5;241;43m.\u001b[39;49m\u001b[43m_registry_client\u001b[49m\u001b[43m,\u001b[49m\u001b[43m \u001b[49m\u001b[43mfeatures\u001b[49m\u001b[38;5;241;43m=\u001b[39;49m\u001b[38;5;28;43;01mNone\u001b[39;49;00m\u001b[43m,\u001b[49m\u001b[43m \u001b[49m\u001b[43mgit_commit\u001b[49m\u001b[38;5;241;43m=\u001b[39;49m\u001b[38;5;28;43;01mNone\u001b[39;49;00m\n\u001b[1;32m     93\u001b[0m \u001b[43m\u001b[49m\u001b[43m)\u001b[49m\n\u001b[1;32m     95\u001b[0m proto_response: ProtoGetValidationResultResponse \u001b[38;5;241m=\u001b[39m (\n\u001b[1;32m     96\u001b[0m     \u001b[38;5;28mself\u001b[39m\u001b[38;5;241m.\u001b[39m_operator_client\u001b[38;5;241m.\u001b[39mvalidate_featureset_blocking(\n\u001b[1;32m     97\u001b[0m         featureset_spec\u001b[38;5;241m=\u001b[39mfeatureset_spec,\n\u001b[0;32m   (...)\u001b[0m\n\u001b[1;32m    103\u001b[0m     )\n\u001b[1;32m    104\u001b[0m )\n\u001b[1;32m    106\u001b[0m \u001b[38;5;28;01mreturn\u001b[39;00m ValidationResponseFactory\u001b[38;5;241m.\u001b[39mfrom_proto(proto_response), artifact_url\n",
      "File \u001b[0;32m~/anaconda3/envs/qwak-new-3.8/lib/python3.8/site-packages/qwak/feature_store/feature_sets/batch.py:379\u001b[0m, in \u001b[0;36mBatchFeatureSet._to_proto\u001b[0;34m(self, git_commit, features, feature_registry, artifact_url, **kwargs)\u001b[0m\n\u001b[1;32m    375\u001b[0m     artifact: Optional[ArtifactSpec] \u001b[38;5;241m=\u001b[39m ArtifactsUploader\u001b[38;5;241m.\u001b[39mget_artifact_spec(\n\u001b[1;32m    376\u001b[0m         \u001b[38;5;28mself\u001b[39m\u001b[38;5;241m.\u001b[39mtransformation, \u001b[38;5;28mself\u001b[39m\u001b[38;5;241m.\u001b[39mname, \u001b[38;5;28mself\u001b[39m\u001b[38;5;241m.\u001b[39m__instance_module_path__\n\u001b[1;32m    377\u001b[0m     )\n\u001b[1;32m    378\u001b[0m     \u001b[38;5;28;01mif\u001b[39;00m artifact:\n\u001b[0;32m--> 379\u001b[0m         artifact_url \u001b[38;5;241m=\u001b[39m \u001b[43mArtifactsUploader\u001b[49m\u001b[38;5;241;43m.\u001b[39;49m\u001b[43mupload\u001b[49m\u001b[43m(\u001b[49m\u001b[43martifact\u001b[49m\u001b[43m)\u001b[49m\n\u001b[1;32m    381\u001b[0m \u001b[38;5;28;01mreturn\u001b[39;00m (\n\u001b[1;32m    382\u001b[0m     FeatureSetSpec(\n\u001b[1;32m    383\u001b[0m         name\u001b[38;5;241m=\u001b[39m\u001b[38;5;28mself\u001b[39m\u001b[38;5;241m.\u001b[39mname,\n\u001b[0;32m   (...)\u001b[0m\n\u001b[1;32m    411\u001b[0m     artifact_url,\n\u001b[1;32m    412\u001b[0m )\n",
      "File \u001b[0;32m~/anaconda3/envs/qwak-new-3.8/lib/python3.8/site-packages/qwak/feature_store/_common/artifact_utils.py:33\u001b[0m, in \u001b[0;36mArtifactsUploader.upload\u001b[0;34m(artifact)\u001b[0m\n\u001b[1;32m     31\u001b[0m \u001b[38;5;129m@staticmethod\u001b[39m\n\u001b[1;32m     32\u001b[0m \u001b[38;5;28;01mdef\u001b[39;00m \u001b[38;5;21mupload\u001b[39m(artifact: ArtifactSpec) \u001b[38;5;241m-\u001b[39m\u001b[38;5;241m>\u001b[39m \u001b[38;5;28mstr\u001b[39m:\n\u001b[0;32m---> 33\u001b[0m     \u001b[38;5;28;01mreturn\u001b[39;00m \u001b[43mupload_artifact\u001b[49m\u001b[43m(\u001b[49m\n\u001b[1;32m     34\u001b[0m \u001b[43m        \u001b[49m\u001b[43mfeature_store_object_name\u001b[49m\u001b[38;5;241;43m=\u001b[39;49m\u001b[43martifact\u001b[49m\u001b[38;5;241;43m.\u001b[39;49m\u001b[43martifact_name\u001b[49m\u001b[43m,\u001b[49m\n\u001b[1;32m     35\u001b[0m \u001b[43m        \u001b[49m\u001b[43mfeature_store_object_name_suffix\u001b[49m\u001b[38;5;241;43m=\u001b[39;49m\u001b[43martifact\u001b[49m\u001b[38;5;241;43m.\u001b[39;49m\u001b[43msuffix\u001b[49m\u001b[43m,\u001b[49m\n\u001b[1;32m     36\u001b[0m \u001b[43m        \u001b[49m\u001b[43mfunctions\u001b[49m\u001b[38;5;241;43m=\u001b[39;49m\u001b[43martifact\u001b[49m\u001b[38;5;241;43m.\u001b[39;49m\u001b[43mcallables\u001b[49m\u001b[43m,\u001b[49m\n\u001b[1;32m     37\u001b[0m \u001b[43m        \u001b[49m\u001b[43mfeature_module_dir\u001b[49m\u001b[38;5;241;43m=\u001b[39;49m\u001b[43martifact\u001b[49m\u001b[38;5;241;43m.\u001b[39;49m\u001b[43mroot_module_path\u001b[49m\u001b[43m,\u001b[49m\n\u001b[1;32m     38\u001b[0m \u001b[43m        \u001b[49m\u001b[43mfeatures_manager_client\u001b[49m\u001b[38;5;241;43m=\u001b[39;49m\u001b[43mFeatureRegistryClient\u001b[49m\u001b[43m(\u001b[49m\u001b[43m)\u001b[49m\u001b[43m,\u001b[49m\n\u001b[1;32m     39\u001b[0m \u001b[43m        \u001b[49m\u001b[43martifact_object\u001b[49m\u001b[38;5;241;43m=\u001b[39;49m\u001b[43martifact\u001b[49m\u001b[38;5;241;43m.\u001b[39;49m\u001b[43martifact_object\u001b[49m\u001b[43m,\u001b[49m\n\u001b[1;32m     40\u001b[0m \u001b[43m    \u001b[49m\u001b[43m)\u001b[49m\n",
      "File \u001b[0;32m~/anaconda3/envs/qwak-new-3.8/lib/python3.8/site-packages/qwak/feature_store/_common/packaging.py:123\u001b[0m, in \u001b[0;36mupload_artifact\u001b[0;34m(feature_store_object_name, feature_store_object_name_suffix, functions, feature_module_dir, features_manager_client, artifact_object)\u001b[0m\n\u001b[1;32m    118\u001b[0m \u001b[38;5;28;01mfrom\u001b[39;00m \u001b[38;5;21;01mqwak\u001b[39;00m\u001b[38;5;21;01m.\u001b[39;00m\u001b[38;5;21;01mfeature_store\u001b[39;00m\u001b[38;5;21;01m.\u001b[39;00m\u001b[38;5;21;01mfeature_sets\u001b[39;00m\u001b[38;5;21;01m.\u001b[39;00m\u001b[38;5;21;01mtransformations\u001b[39;00m\u001b[38;5;21;01m.\u001b[39;00m\u001b[38;5;21;01mtransformations\u001b[39;00m \u001b[38;5;28;01mimport\u001b[39;00m (\n\u001b[1;32m    119\u001b[0m     BaseTransformation,\n\u001b[1;32m    120\u001b[0m )\n\u001b[1;32m    122\u001b[0m \u001b[38;5;28;01mif\u001b[39;00m \u001b[38;5;28misinstance\u001b[39m(artifact_object, BaseTransformation):\n\u001b[0;32m--> 123\u001b[0m     presign_url \u001b[38;5;241m=\u001b[39m \u001b[43mget_featureset_presign_url\u001b[49m\u001b[43m(\u001b[49m\n\u001b[1;32m    124\u001b[0m \u001b[43m        \u001b[49m\u001b[43mfeatures_manager_client\u001b[49m\u001b[38;5;241;43m=\u001b[39;49m\u001b[43mfeatures_manager_client\u001b[49m\u001b[43m,\u001b[49m\n\u001b[1;32m    125\u001b[0m \u001b[43m        \u001b[49m\u001b[43mfeature_store_object_name\u001b[49m\u001b[38;5;241;43m=\u001b[39;49m\u001b[43mfeature_store_object_name\u001b[49m\u001b[43m,\u001b[49m\n\u001b[1;32m    126\u001b[0m \u001b[43m        \u001b[49m\u001b[43mfeature_store_object_name_suffix\u001b[49m\u001b[38;5;241;43m=\u001b[39;49m\u001b[43mfeature_store_object_name_suffix\u001b[49m\u001b[43m,\u001b[49m\n\u001b[1;32m    127\u001b[0m \u001b[43m        \u001b[49m\u001b[43mtransformation\u001b[49m\u001b[38;5;241;43m=\u001b[39;49m\u001b[43martifact_object\u001b[49m\u001b[43m,\u001b[49m\n\u001b[1;32m    128\u001b[0m \u001b[43m    \u001b[49m\u001b[43m)\u001b[49m\n\u001b[1;32m    129\u001b[0m \u001b[38;5;28;01melif\u001b[39;00m \u001b[38;5;28misinstance\u001b[39m(artifact_object, Deserializer):\n\u001b[1;32m    130\u001b[0m     presign_url \u001b[38;5;241m=\u001b[39m get_data_source_presign_url(\n\u001b[1;32m    131\u001b[0m         features_manager_client\u001b[38;5;241m=\u001b[39mfeatures_manager_client,\n\u001b[1;32m    132\u001b[0m         data_source_object_name\u001b[38;5;241m=\u001b[39mfeature_store_object_name,\n\u001b[1;32m    133\u001b[0m         data_source_name_suffix\u001b[38;5;241m=\u001b[39mfeature_store_object_name_suffix,\n\u001b[1;32m    134\u001b[0m     )\n",
      "File \u001b[0;32m~/anaconda3/envs/qwak-new-3.8/lib/python3.8/site-packages/qwak/feature_store/_common/packaging.py:83\u001b[0m, in \u001b[0;36mget_featureset_presign_url\u001b[0;34m(features_manager_client, feature_store_object_name, feature_store_object_name_suffix, transformation)\u001b[0m\n\u001b[1;32m     77\u001b[0m \u001b[38;5;28;01mdef\u001b[39;00m \u001b[38;5;21mget_featureset_presign_url\u001b[39m(\n\u001b[1;32m     78\u001b[0m     features_manager_client: FeatureRegistryClient,\n\u001b[1;32m     79\u001b[0m     feature_store_object_name: \u001b[38;5;28mstr\u001b[39m,\n\u001b[1;32m     80\u001b[0m     feature_store_object_name_suffix: \u001b[38;5;28mstr\u001b[39m,\n\u001b[1;32m     81\u001b[0m     transformation,\n\u001b[1;32m     82\u001b[0m ) \u001b[38;5;241m-\u001b[39m\u001b[38;5;241m>\u001b[39m \u001b[38;5;28mstr\u001b[39m:\n\u001b[0;32m---> 83\u001b[0m     \u001b[38;5;28;01mreturn\u001b[39;00m \u001b[43mfeatures_manager_client\u001b[49m\u001b[38;5;241;43m.\u001b[39;49m\u001b[43mget_presigned_url_v1\u001b[49m\u001b[43m(\u001b[49m\n\u001b[1;32m     84\u001b[0m \u001b[43m        \u001b[49m\u001b[43mfeature_set_name\u001b[49m\u001b[38;5;241;43m=\u001b[39;49m\u001b[43mfeature_store_object_name\u001b[49m\u001b[43m \u001b[49m\u001b[38;5;241;43m+\u001b[39;49m\u001b[43m \u001b[49m\u001b[43mfeature_store_object_name_suffix\u001b[49m\u001b[43m,\u001b[49m\n\u001b[1;32m     85\u001b[0m \u001b[43m        \u001b[49m\u001b[43mtransformation\u001b[49m\u001b[38;5;241;43m=\u001b[39;49m\u001b[43mtransformation\u001b[49m\u001b[38;5;241;43m.\u001b[39;49m\u001b[43m_to_proto\u001b[49m\u001b[43m(\u001b[49m\u001b[43m)\u001b[49m\u001b[43m,\u001b[49m\n\u001b[1;32m     86\u001b[0m \u001b[43m    \u001b[49m\u001b[43m)\u001b[49m\n",
      "File \u001b[0;32m~/anaconda3/envs/qwak-new-3.8/lib/python3.8/site-packages/qwak/clients/feature_store/management_client.py:398\u001b[0m, in \u001b[0;36mFeatureRegistryClient.get_presigned_url_v1\u001b[0;34m(self, feature_set_name, transformation)\u001b[0m\n\u001b[1;32m    391\u001b[0m     \u001b[38;5;28;01mreturn\u001b[39;00m \u001b[38;5;28mself\u001b[39m\u001b[38;5;241m.\u001b[39m_features_service\u001b[38;5;241m.\u001b[39mCreateUploadURLV1(\n\u001b[1;32m    392\u001b[0m         CreateUploadURLRequestV1(\n\u001b[1;32m    393\u001b[0m             featureset_name\u001b[38;5;241m=\u001b[39mfeature_set_name,\n\u001b[1;32m    394\u001b[0m             transformation\u001b[38;5;241m=\u001b[39mtransformation,\n\u001b[1;32m    395\u001b[0m         )\n\u001b[1;32m    396\u001b[0m     )\u001b[38;5;241m.\u001b[39mupload_url\n\u001b[1;32m    397\u001b[0m \u001b[38;5;28;01mexcept\u001b[39;00m RpcError \u001b[38;5;28;01mas\u001b[39;00m e:\n\u001b[0;32m--> 398\u001b[0m     \u001b[38;5;28;01mraise\u001b[39;00m QwakException(\n\u001b[1;32m    399\u001b[0m         \u001b[38;5;124mf\u001b[39m\u001b[38;5;124m\"\u001b[39m\u001b[38;5;124mFailed to get presigned url for featureset name \u001b[39m\u001b[38;5;132;01m{\u001b[39;00mfeature_set_name\u001b[38;5;132;01m}\u001b[39;00m\u001b[38;5;124m and transformation type \u001b[39m\u001b[38;5;124m\"\u001b[39m\n\u001b[1;32m    400\u001b[0m         \u001b[38;5;124mf\u001b[39m\u001b[38;5;124m\"\u001b[39m\u001b[38;5;132;01m{\u001b[39;00m\u001b[38;5;28mtype\u001b[39m(transformation)\u001b[38;5;132;01m}\u001b[39;00m\u001b[38;5;124m, error code: [\u001b[39m\u001b[38;5;132;01m{\u001b[39;00me\u001b[38;5;241m.\u001b[39mdetails()\u001b[38;5;132;01m}\u001b[39;00m\u001b[38;5;124m]\u001b[39m\u001b[38;5;124m\"\u001b[39m\n\u001b[1;32m    401\u001b[0m     )\n",
      "\u001b[0;31mQwakException\u001b[0m: \u001b[91mFailed to get presigned url for featureset name credit-risk-fs-udf and transformation type <class 'qwak.feature_store.features.feature_set_types_pb2.Transformation'>, error code: [[User code execution (Koalas, UDFs, Custom code) is not enabled for the current feature store environment]]\u001b[0m"
     ]
    }
   ],
   "source": [
    "%run batch_feature_set_udf.py\n",
    "\n",
    "import os\n",
    "os.environ[\"QWAK_API_KEY\"] = '1d4c031d0b2633bc7e67e7cb777e7478@nUCB8k3<c8Mp94JS#TWBK02<Zrs)@ELD'\n",
    "\n",
    "df_sample = transform.get_sample()\n",
    "print (f\"Data Source Data Types:\\n\\n{df_sample.dtypes}\\n\")\n",
    "print (f\"Data Source Sample :\\n\\n{df_sample}\\n\")"
   ]
  },
  {
   "cell_type": "markdown",
   "id": "80c5f593-7e74-466e-8e9a-22cd614ba101",
   "metadata": {},
   "source": [
    "## Visualizing Data in the Feature Store\n",
    "\n",
    "The displayed data represents the features stored in the feature store, which will be utilized in our Qwak ML model for both training and inference purposes.\n",
    "\n",
    "Once we have confirmed that the data appears as expected and meets our requirements, we can proceed with registering the feature set in Qwak.\n"
   ]
  },
  {
   "cell_type": "code",
   "execution_count": 3,
   "id": "a7d7713c-bf02-4d33-bd85-4af4ba6d3544",
   "metadata": {},
   "outputs": [
    {
     "name": "stdout",
     "output_type": "stream",
     "text": [
      "Notice that BatchInferenceClient and FeedbackClient are not available in the skinny package. In order to use them, please install them as extras: pip install \"qwak-inference[batch,feedback]\".\n",
      "\u001b[K\u001b[?25h\u001b[34m✅\u001b[0m Finding Entities to register (0:00:00.07)\n",
      "👀 Found 0 Entities\n",
      "----------------------------------------\n",
      "\u001b[K\u001b[?25h\u001b[34m✅\u001b[0m Finding Data Sources to register (0:00:00.01)\n",
      "👀 Found 0 Data Sources\n",
      "----------------------------------------\n",
      "\u001b[K\u001b[?25h\u001b[34m✅\u001b[0m Finding Feature Sets to register (0:00:00.01)\n",
      "👀 Found 1 Feature Set(s)\n",
      "Create new feature set 'credit-risk-fs-sql' from source file '/home/qwak/workspace/batch_feature_set_sql.py'?\n",
      "continue? [y/N]: Validating 'credit-risk-fs-sql' feature set\n",
      "\u001b[K\u001b[?25h\u001b[34m✅\u001b[0m  (0:00:06.20)\n",
      "✅ Validation completed successfully, got data source columns:\n",
      "column name       type\n",
      "----------------  ---------\n",
      "user              string\n",
      "age               int\n",
      "sex               string\n",
      "job               int\n",
      "housing           string\n",
      "saving_account    string\n",
      "checking_account  string\n",
      "credit_amount     int\n",
      "duration          int\n",
      "purpose           string\n",
      "date_created      timestamp\n"
     ]
    }
   ],
   "source": [
    "!echo \"Y\" | qwak features register -p batch_feature_set_udf.py"
   ]
  },
  {
   "cell_type": "markdown",
   "id": "d239e7f1-dd0d-40b7-9250-be2596f80438",
   "metadata": {},
   "source": [
    "<br>\n",
    "\n",
    "#### Verifying Feature Set Registration\n",
    "\n",
    "To ensure that the Feature Set has been successfully registered and is valid, execute the following command to list all Feature Sets associated with your Qwak account:\n",
    "\n",
    "<br>"
   ]
  },
  {
   "cell_type": "code",
   "execution_count": null,
   "id": "f3d490ed-03c5-45d7-82c8-9a3d2bf80d0f",
   "metadata": {},
   "outputs": [],
   "source": [
    "!qwak features list"
   ]
  },
  {
   "cell_type": "markdown",
   "id": "cbcd0aa9-3524-4abc-aecd-5b05f6f54886",
   "metadata": {},
   "source": [
    "<br>\n",
    "\n",
    "For more information on the available Feature Store SDK commands, please use the CLI help:\n",
    "\n",
    "<br>"
   ]
  },
  {
   "cell_type": "code",
   "execution_count": 15,
   "id": "2d091acf-289a-4c72-abc1-5f7d88e09e23",
   "metadata": {},
   "outputs": [
    {
     "name": "stdout",
     "output_type": "stream",
     "text": [
      "Notice that BatchInferenceClient and FeedbackClient are not available in the skinny package. In order to use them, please install them as extras: pip install \"qwak-inference[batch,feedback]\".\n",
      "Usage: qwak features [OPTIONS] COMMAND [ARGS]...\n",
      "\n",
      "  Commands for interacting with the Qwak Feature Store\n",
      "\n",
      "Options:\n",
      "  --help  Show this message and exit.\n",
      "\n",
      "Commands:\n",
      "  backfill          Trigger a backfill process for a Feature Set\n",
      "  delete            Delete by name a feature store object - a feature...\n",
      "  execution-status  Retrieve the current status of an execution...\n",
      "  list              List registered feature sets\n",
      "  pause             Pause a running feature set\n",
      "  register          Register and deploy all feature store object under...\n",
      "  resume            Resume a paused feature set\n",
      "  trigger           Trigger a batch feature set job ingestion job\n"
     ]
    }
   ],
   "source": [
    "!qwak features --help"
   ]
  },
  {
   "cell_type": "markdown",
   "id": "8efe40f5-2638-4386-9772-cb2589c73bad",
   "metadata": {},
   "source": [
    "<hr><br>\n",
    "\n",
    "## Consuming Features from the Offline Feature Store (Training/Batch Inference)\n",
    "\n",
    "To retrieve features from the Offline Feature Store for training or batch inference, you can use two methods:\n",
    "\n",
    "1. **By List of IDs and Timestamp**:\n",
    "   - Fetches records associated with the provided set of keys, inserted at a specific timestamp.\n",
    "   - Query date must fall between the start and end timestamp.\n",
    "\n",
    "2. **By Date Range**:\n",
    "   - Retrieves all records within the specified date range.\n",
    "   - May include multiple records per key for time series data.\n",
    "\n",
    "\n",
    "For simplicity we will focus on the second option, but you can find more information on the first one in [our docs](https://docs-saas.qwak.com/docs/getting-features-for-training#get-feature-values). "
   ]
  },
  {
   "cell_type": "code",
   "execution_count": 1,
   "id": "484e6d82-bfdd-4256-bc7d-23580713f76b",
   "metadata": {},
   "outputs": [
    {
     "name": "stdout",
     "output_type": "stream",
     "text": [
      "\n",
      "\n",
      "Training data sample:\n",
      "\n",
      "                                   user                    date_created  credit-risk-fs-sql.age credit-risk-fs-sql.sex  credit-risk-fs-sql.job credit-risk-fs-sql.housing credit-risk-fs-sql.saving_account credit-risk-fs-sql.checking_account  credit-risk-fs-sql.credit_amount  credit-risk-fs-sql.duration credit-risk-fs-sql.purpose\n",
      "0  45b7836f-bf7c-4039-bc9e-d33982cc1fc5  2021-01-01 00:00:00.000000 UTC                      27                   male                       2                        own                          moderate                            moderate                              4576                           45                        car\n",
      "1  45b7836f-bf7c-4039-bc9e-d33982cc1fc5  2023-03-20 23:00:00.000000 UTC                      27                   male                       2                        own                          moderate                            moderate                              4576                           45                        car\n",
      "2  35343bfd-f15d-48f7-9ebf-f0f724dbb2a9  2021-01-01 00:00:00.000000 UTC                      27                   male                       1                        own                               NaN                                 NaN                              1309                           10                        car\n",
      "3  46ad9e4b-1d0f-47b7-a73d-71cc66538b03  2021-01-01 00:00:00.000000 UTC                      23                   male                       0                        own                               NaN                            moderate                             14555                            6                        car\n",
      "4  52ef7f25-6db2-47d0-9476-88bb8e6fa605  2021-01-01 00:00:00.000000 UTC                      22                   male                       2                        own                            little                              little                              2462                           18        furniture/equipment\n",
      "\n"
     ]
    }
   ],
   "source": [
    "# Importing the Feature Store clients used to fetch results\n",
    "from qwak.feature_store.offline import OfflineClientV2\n",
    "from qwak.feature_store.offline.feature_set_features import FeatureSetFeatures\n",
    "\n",
    "from datetime import datetime\n",
    "import pandas as pd\n",
    "\n",
    "def fetch_training_features(start_time: datetime, end_time: datetime) -> pd.DataFrame: \n",
    "\n",
    "    offline_feature_store = OfflineClientV2()\n",
    "    \n",
    "    features = FeatureSetFeatures(\n",
    "        feature_set_name='credit-risk-fs-udf',\n",
    "        feature_names=['age', 'sex', 'job', 'housing', 'saving_account', 'checking_account', 'credit_amount', 'duration', 'purpose']\n",
    "    )\n",
    "    \n",
    "    # It's recommended to be surrounded in a try/catch\n",
    "    features: pd.DataFrame = offline_feature_store.get_feature_range_values(\n",
    "        features=features,\n",
    "        start_date=start_time,\n",
    "        end_date=end_time\n",
    "    )\n",
    "\n",
    "    return features\n",
    "    \n",
    "\n",
    "if __name__ == '__main__':\n",
    "\n",
    "    # Define the date range for feature retrieval\n",
    "    feature_range_start = datetime(year=2023, month=1, day=1)\n",
    "    feature_range_end = datetime.today()\n",
    "\n",
    "    train_df = fetch_training_features(feature_range_start, feature_range_end)\n",
    "\n",
    "    print(f\"\\n\\nTraining data sample:\\n\\n{train_df.head().to_string()}\\n\")"
   ]
  },
  {
   "cell_type": "markdown",
   "id": "7d76ff96-59bf-4f5c-89d2-4450891cbeb5",
   "metadata": {},
   "source": [
    "<br>\n",
    "\n",
    "Please note that although the Feature Set has been registered, it usually takes a couple of minutes to run the first ingestion job. This means you might not have any data to fetch until the ingestion job runs at least once.\n",
    "\n",
    "To verify the status of the ingestion, please refer to the Qwak Dashboard -> Feature Sets -> `credit-risk-fs-sql` -> Jobs.\n",
    "\n",
    "![Feature Store Dashboard](ingestion-job-finished.png)\n",
    "\n",
    "\n",
    "<br>"
   ]
  },
  {
   "cell_type": "markdown",
   "id": "e32c4ec0-68f9-4657-91bb-31096e686acb",
   "metadata": {},
   "source": [
    "<hr><br>\n",
    "\n",
    "## Consuming Features for Real-Time Inference from the Online Store\n",
    "\n",
    "In the previous example, we retrieved historical data from the Offline Store, which is storing all the historical data. Now, we'll use the Online Store, which is optimized for real-time use-cases and provides a low-latency feature retrieval mechanism. \n",
    "Qwak provides two ways to query the Online store and look up the most recent feature vector for a given key:\n",
    "\n",
    "###  1. Enriching Inference Requests with Features from Online Store\n",
    "\n",
    "Qwak natively integrates the Model runtime with the Feature Store, offering an easy way to leverage very low-latency feature retrieval. This is done without specifically running a query, just by sending the feature set key in the model request input. This will automatically extract the latest features for that `key`, in our case `user` during a model serving request.\n",
    "\n",
    "\n",
    "Note: Below is an example code for local use only. If you're using it for a live model, please remove the `run_local` import.\n",
    "\n",
    "**The ModelSchema definition is mandatory to enable feature extraction via the OnlineClient or qwak.api decorator**.\n"
   ]
  },
  {
   "cell_type": "code",
   "execution_count": 2,
   "id": "9228cbeb-db89-4410-b021-b7cc2d654e8b",
   "metadata": {},
   "outputs": [],
   "source": [
    "from qwak.model.tools import run_local # utility tooling for local testing and debugging - REMOVE BEFORE BUILDING REMOTELY\n",
    "\n",
    "from qwak.model.base import QwakModel\n",
    "from qwak.model.adapters import DefaultOutputAdapter, DataFrameInputAdapter\n",
    "from qwak.model.schema import ModelSchema, InferenceOutput\n",
    "from qwak.model.schema_entities import FeatureStoreInput\n",
    "import pandas as pd\n",
    "import qwak\n",
    "\n",
    "FEATURE_SET = 'credit-risk-fs-udf'\n",
    "\n",
    "class CreditRiskModel(QwakModel):\n",
    "   \n",
    "    def __init__(self):\n",
    "        pass\n",
    "\n",
    "    def build(self):\n",
    "        pass\n",
    "\n",
    "    def schema(self) -> ModelSchema:\n",
    "        model_schema = ModelSchema(\n",
    "            inputs=[\n",
    "                FeatureStoreInput(name=f'{FEATURE_SET}.checking_account'),\n",
    "                FeatureStoreInput(name=f'{FEATURE_SET}.age'),\n",
    "                FeatureStoreInput(name=f'{FEATURE_SET}.job'),\n",
    "                FeatureStoreInput(name=f'{FEATURE_SET}.duration'),\n",
    "                FeatureStoreInput(name=f'{FEATURE_SET}.credit_amount'),\n",
    "                FeatureStoreInput(name=f'{FEATURE_SET}.housing'),\n",
    "                FeatureStoreInput(name=f'{FEATURE_SET}.purpose'),\n",
    "                FeatureStoreInput(name=f'{FEATURE_SET}.saving_account'),\n",
    "                FeatureStoreInput(name=f'{FEATURE_SET}.sex'),\n",
    "            ],\n",
    "            outputs=[InferenceOutput(name=\"credit_score\", type=float)]\n",
    "        )\n",
    "        return model_schema\n",
    "\n",
    "    @qwak.api(\n",
    "        feature_extraction=True,\n",
    "        input_adapter=DataFrameInputAdapter(),\n",
    "        output_adapter=DefaultOutputAdapter()\n",
    "    )\n",
    "    def predict(self, df: pd.DataFrame, extracted_df: pd.DataFrame) -> pd.DataFrame:\n",
    "        print(f\"\\nInput dataframe df:\\n{df}\")\n",
    "        print(f\"\\nFeature Set extracted dataframe:\\n{extracted_df.to_string()}\")\n",
    "        return pd.DataFrame([['score', 0.5]])\n"
   ]
  },
  {
   "cell_type": "markdown",
   "id": "8cedb207-6892-4f65-a61f-05ad7904b52e",
   "metadata": {},
   "source": [
    "Calling the model locally to test `predict()`:"
   ]
  },
  {
   "cell_type": "code",
   "execution_count": 7,
   "id": "1b15b602-fb16-4a28-aad6-161266975a20",
   "metadata": {},
   "outputs": [
    {
     "name": "stdout",
     "output_type": "stream",
     "text": [
      "Predicting for: \n",
      "\n",
      " {\"user\":{\"0\":\"45b7836f-bf7c-4039-bc9e-d33982cc1fc5\"}}\n",
      "\n",
      "Input dataframe df:\n",
      "                                   user\n",
      "0  45b7836f-bf7c-4039-bc9e-d33982cc1fc5\n",
      "\n",
      "Feature Set extracted dataframe:\n",
      "                                   user credit-risk-fs-sql.checking_account  credit-risk-fs-sql.age  credit-risk-fs-sql.job  credit-risk-fs-sql.duration  credit-risk-fs-sql.credit_amount credit-risk-fs-sql.housing credit-risk-fs-sql.purpose credit-risk-fs-sql.saving_account credit-risk-fs-sql.sex\n",
      "0  45b7836f-bf7c-4039-bc9e-d33982cc1fc5                            moderate                      27                       2                           45                              4576                        own                        car                          moderate                   male\n",
      "\n",
      "Prediction:  [{\"0\":\"score\",\"1\":0.5}]\n"
     ]
    }
   ],
   "source": [
    "def test_model_locally():\n",
    "    # Create a new instance of the model\n",
    "    m = CreditRiskModel()\n",
    "\n",
    "    # Define the columns\n",
    "    columns = [\"user\"]\n",
    "\n",
    "    # Define the data\n",
    "    data = [[\"45b7836f-bf7c-4039-bc9e-d33982cc1fc5\"]]\n",
    "\n",
    "    \n",
    "    # Create the DataFrame and convert it to JSON\n",
    "    json_payload = pd.DataFrame(data, columns=columns).to_json()\n",
    "    print(\"Predicting for: \\n\\n\", json_payload)\n",
    "    \n",
    "\n",
    "    # Run local inference using the model and print the prediction\n",
    "    # The run_local function is part of the qwak library and allows for local testing of the model\n",
    "    prediction = run_local(m, json_payload)\n",
    "    print(\"\\nPrediction: \", prediction)\n",
    "\n",
    "test_model_locally()"
   ]
  },
  {
   "cell_type": "markdown",
   "id": "8ed62ec8-3f5f-4be5-976c-597ed647a2cf",
   "metadata": {},
   "source": [
    "<br>\n",
    "As you can see, the we only sent the `user` ID in the prediction request, and Qwak automatically extracted the relevant (latest) features for that key from the Feature Set specified in the Model Schema. \n",
    "\n",
    "This approach is automatically logging the extraction latency to the model Analytics.\n",
    "\n",
    "<br>\n",
    "\n",
    "###  2. Features Lookup with the OnlineClient\n",
    "\n",
    "With the previous approach we managed to enable a QwakModel to fetch features automatically and that approach is great for most cases. However what happens if we want to have more control over the keys we want to look up for at runtime, like for example looking up multiple keys for a single prediction request input. \n",
    "\n",
    "That's what the `OnlineClient` is for, to enable you explicit queries, as we'll exemplify below:\n",
    "\n",
    "<br>"
   ]
  },
  {
   "cell_type": "code",
   "execution_count": 9,
   "id": "90cf537b",
   "metadata": {},
   "outputs": [
    {
     "name": "stdout",
     "output_type": "stream",
     "text": [
      "\n",
      "\\Realtime features extracted:\n",
      "\n",
      "                                   user credit-risk-fs-sql.checking_account  credit-risk-fs-sql.age  credit-risk-fs-sql.job  credit-risk-fs-sql.duration  credit-risk-fs-sql.credit_amount credit-risk-fs-sql.housing credit-risk-fs-sql.purpose credit-risk-fs-sql.saving_account credit-risk-fs-sql.sex\n",
      "0  06cc255a-aa07-4ec9-ac69-b896ccf05322                            moderate                      31                       2                           24                              1935                        own                   business                            little                   male\n",
      "1  46ad9e4b-1d0f-47b7-a73d-71cc66538b03                            moderate                      23                       0                            6                             14555                        own                        car                              null                   male\n",
      "2  95ec0c53-4e27-4490-b85f-1448de70fc26                            moderate                      25                       1                           12                               685                        own                        car                            little                   male\n",
      "\n"
     ]
    }
   ],
   "source": [
    "import pandas as pd\n",
    "from qwak.feature_store.online.client import OnlineClient\n",
    "from qwak.model.schema_entities import FeatureStoreInput\n",
    "from qwak.model.schema import ModelSchema\n",
    "\n",
    "FEATURE_SET = 'credit-risk-fs-udf'\n",
    "\n",
    "\n",
    "model_schema = ModelSchema(\n",
    "            inputs=[\n",
    "                FeatureStoreInput(name=f'{FEATURE_SET}.checking_account'),\n",
    "                FeatureStoreInput(name=f'{FEATURE_SET}.age'),\n",
    "                FeatureStoreInput(name=f'{FEATURE_SET}.job'),\n",
    "                FeatureStoreInput(name=f'{FEATURE_SET}.duration'),\n",
    "                FeatureStoreInput(name=f'{FEATURE_SET}.credit_amount'),\n",
    "                FeatureStoreInput(name=f'{FEATURE_SET}.housing'),\n",
    "                FeatureStoreInput(name=f'{FEATURE_SET}.purpose'),\n",
    "                FeatureStoreInput(name=f'{FEATURE_SET}.saving_account'),\n",
    "                FeatureStoreInput(name=f'{FEATURE_SET}.sex'),\n",
    "            ],\n",
    "            outputs=[InferenceOutput(name=\"credit_score\", type=float)]\n",
    "        )\n",
    "    \n",
    "online_client = OnlineClient()\n",
    "\n",
    "df = pd.DataFrame(columns=['user',],\n",
    "                  data   =[['06cc255a-aa07-4ec9-ac69-b896ccf05322'],\n",
    "                           ['46ad9e4b-1d0f-47b7-a73d-71cc66538b03'],\n",
    "                           ['95ec0c53-4e27-4490-b85f-1448de70fc26']])\n",
    "                  \n",
    "online_features = online_client.get_feature_values(model_schema, df)\n",
    "\n",
    "\n",
    "print(f\"\\n\\Realtime features extracted:\\n\\n{online_features.to_string()}\\n\")"
   ]
  },
  {
   "cell_type": "markdown",
   "id": "cfa4cae4",
   "metadata": {},
   "source": [
    "<br>\n",
    "\n",
    "You may have noticed that the FeatureStoreInput names contain both the feature set name and the feature name. This design allows you to specify and utilize multiple feature sets within the same request.\n",
    "\n",
    "Similar to the previous option, the `ModelSchema` is a required component. It informs Qwak about the features to include in the lookup.\n"
   ]
  }
 ],
 "metadata": {
  "kernelspec": {
   "display_name": "qwak-new",
   "language": "python",
   "name": "python3"
  },
  "language_info": {
   "codemirror_mode": {
    "name": "ipython",
    "version": 3
   },
   "file_extension": ".py",
   "mimetype": "text/x-python",
   "name": "python",
   "nbconvert_exporter": "python",
   "pygments_lexer": "ipython3",
   "version": "3.8.19"
  }
 },
 "nbformat": 4,
 "nbformat_minor": 5
}
